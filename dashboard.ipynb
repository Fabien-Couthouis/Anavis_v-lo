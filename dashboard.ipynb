{
 "nbformat": 4,
 "nbformat_minor": 2,
 "metadata": {
  "language_info": {
   "name": "python",
   "codemirror_mode": {
    "name": "ipython",
    "version": 3
   }
  },
  "orig_nbformat": 2,
  "file_extension": ".py",
  "mimetype": "text/x-python",
  "name": "python",
  "npconvert_exporter": "python",
  "pygments_lexer": "ipython3",
  "version": 3
 },
 "cells": [
  {
   "cell_type": "markdown",
   "execution_count": null,
   "metadata": {},
   "outputs": [],
   "source": [
    "# Data analysis: bicincitta_parma - Dashboard\n",
    "A. Heuillet & F. Couthouis"
   ]
  },
  {
   "cell_type": "code",
   "execution_count": 2,
   "metadata": {},
   "outputs": [
    {
     "name": "stdout",
     "output_type": "stream",
     "text": "Bikes       Slots       Total    Humidity     Pressure  \\\ncount  277.000000  277.000000  277.000000  277.000000   277.000000   \nmean     3.057762    6.758123    9.815884   83.043321   979.417617   \nstd      1.607361    1.923156    0.388280   14.895467    34.448889   \nmin      2.000000    2.000000    9.000000   50.000000   944.750000   \n25%      2.000000    6.000000   10.000000   73.000000   947.140000   \n50%      2.000000    8.000000   10.000000   88.000000   955.490000   \n75%      4.000000    8.000000   10.000000   95.000000  1018.000000   \nmax      7.000000    8.000000   10.000000  100.000000  1023.000000   \n\n          WindDeg   WindSpeed  TemperatureTemp  \ncount  277.000000  277.000000       277.000000  \nmean   100.431933    1.218123         3.328303  \nstd     89.539335    0.648080         4.363748  \nmin     12.004000    0.520000        -5.120000  \n25%     41.005200    0.710000         0.180000  \n50%     65.500400    0.870000         2.710000  \n75%    106.004000    1.760000         8.000000  \nmax    354.000000    2.720000        11.000000  \n"
    },
    {
     "data": {
      "text/html": "<div>\n<style scoped>\n    .dataframe tbody tr th:only-of-type {\n        vertical-align: middle;\n    }\n\n    .dataframe tbody tr th {\n        vertical-align: top;\n    }\n\n    .dataframe thead th {\n        text-align: right;\n    }\n</style>\n<table border=\"1\" class=\"dataframe\">\n  <thead>\n    <tr style=\"text-align: right;\">\n      <th></th>\n      <th>Timestamp</th>\n      <th>Station</th>\n      <th>Bikes</th>\n      <th>Slots</th>\n      <th>Total</th>\n      <th>Status</th>\n      <th>Humidity</th>\n      <th>Pressure</th>\n      <th>Rain</th>\n      <th>WindDeg</th>\n      <th>WindSpeed</th>\n      <th>Snow</th>\n      <th>TemperatureTemp</th>\n    </tr>\n  </thead>\n  <tbody>\n    <tr>\n      <th>0</th>\n      <td>2014-12-08 16:00:00</td>\n      <td>15. Repubblica</td>\n      <td>2</td>\n      <td>8</td>\n      <td>10</td>\n      <td>clouds</td>\n      <td>92.0</td>\n      <td>948.0</td>\n      <td>{}</td>\n      <td>106.004</td>\n      <td>0.71</td>\n      <td>{}</td>\n      <td>5.77</td>\n    </tr>\n    <tr>\n      <th>1</th>\n      <td>2014-12-08 16:10:00</td>\n      <td>15. Repubblica</td>\n      <td>2</td>\n      <td>8</td>\n      <td>10</td>\n      <td>clouds</td>\n      <td>92.0</td>\n      <td>948.0</td>\n      <td>{}</td>\n      <td>106.004</td>\n      <td>0.71</td>\n      <td>{}</td>\n      <td>5.77</td>\n    </tr>\n    <tr>\n      <th>2</th>\n      <td>2014-12-08 16:20:00</td>\n      <td>15. Repubblica</td>\n      <td>2</td>\n      <td>8</td>\n      <td>10</td>\n      <td>clouds</td>\n      <td>92.0</td>\n      <td>948.0</td>\n      <td>{}</td>\n      <td>106.004</td>\n      <td>0.71</td>\n      <td>{}</td>\n      <td>5.77</td>\n    </tr>\n    <tr>\n      <th>3</th>\n      <td>2014-12-08 16:30:00</td>\n      <td>15. Repubblica</td>\n      <td>2</td>\n      <td>8</td>\n      <td>10</td>\n      <td>clouds</td>\n      <td>92.0</td>\n      <td>948.0</td>\n      <td>{}</td>\n      <td>106.004</td>\n      <td>0.71</td>\n      <td>{}</td>\n      <td>5.77</td>\n    </tr>\n    <tr>\n      <th>4</th>\n      <td>2014-12-08 16:40:00</td>\n      <td>15. Repubblica</td>\n      <td>2</td>\n      <td>8</td>\n      <td>10</td>\n      <td>clouds</td>\n      <td>92.0</td>\n      <td>948.0</td>\n      <td>{}</td>\n      <td>106.004</td>\n      <td>0.71</td>\n      <td>{}</td>\n      <td>5.77</td>\n    </tr>\n  </tbody>\n</table>\n</div>",
      "text/plain": "            Timestamp         Station  Bikes  Slots  Total  Status  Humidity  \\\n0 2014-12-08 16:00:00  15. Repubblica      2      8     10  clouds      92.0   \n1 2014-12-08 16:10:00  15. Repubblica      2      8     10  clouds      92.0   \n2 2014-12-08 16:20:00  15. Repubblica      2      8     10  clouds      92.0   \n3 2014-12-08 16:30:00  15. Repubblica      2      8     10  clouds      92.0   \n4 2014-12-08 16:40:00  15. Repubblica      2      8     10  clouds      92.0   \n\n   Pressure Rain  WindDeg  WindSpeed Snow  TemperatureTemp  \n0     948.0   {}  106.004       0.71   {}             5.77  \n1     948.0   {}  106.004       0.71   {}             5.77  \n2     948.0   {}  106.004       0.71   {}             5.77  \n3     948.0   {}  106.004       0.71   {}             5.77  \n4     948.0   {}  106.004       0.71   {}             5.77  "
     },
     "execution_count": 2,
     "metadata": {},
     "output_type": "execute_result"
    }
   ],
   "source": [
    "from datetime import datetime,timedelta\n",
    "import numpy as np\n",
    "import pandas as pd\n",
    "import matplotlib.pyplot as plt\n",
    "import seaborn as sns\n",
    "from IPython.display import display\n",
    "\n",
    "pd.plotting.register_matplotlib_converters()\n",
    "plt.style.use('seaborn-dark')\n",
    "sns.set_context(\"paper\")\n",
    "\n",
    "\n",
    "datafile = \"Data/15. Repubblica/2014-12-08 16:00:00.csv.gz\"\n",
    "df = pd.read_csv(datafile, compression='gzip', sep=';',parse_dates=[\"Timestamp\"])\n",
    "\n",
    "print(df.describe())\n",
    "df.head()\n"
   ]
  },
  {
   "cell_type": "code",
   "execution_count": 3,
   "metadata": {},
   "outputs": [
    {
     "name": "stdout",
     "output_type": "stream",
     "text": "Dashboard for station Repubblica on Tuesday 09 December 2014\n"
    }
   ],
   "source": [
    "#Select only one day\n",
    "\n",
    "#Timestamp of the first row of the day (atr midnight)\n",
    "start_date = df[df['Timestamp'].apply(lambda x :x.hour == 0)]['Timestamp'].iloc[0] \n",
    "end_date = start_date + timedelta(days=1)\n",
    "mask = (df['Timestamp'] >= start_date) & (df['Timestamp'] < end_date)\n",
    "\n",
    "df_one_day = df.loc[mask]\n",
    "\n",
    "date_str = start_date.strftime('%A %d %B %Y')\n",
    "stat_name = df['Station'].iloc[0][4:]\n",
    "print(f\"Dashboard for station {stat_name} on {date_str}\")\n"
   ]
  },
  {
   "cell_type": "code",
   "execution_count": 18,
   "metadata": {},
   "outputs": [],
   "source": [
    "df_s = df_one_day\n",
    "df_one_day.index = df_one_day['Timestamp']\n",
    "df_one_day = df_one_day.resample('H').mean().reset_index()\n",
    "df_one_day[\"Hour\"] = df_one_day[\"Timestamp\"].apply(lambda x: x.hour)\n",
    "\n",
    "\n",
    "\n",
    "def draw_plot(x, y, axis, title=\"\"):\n",
    "    ax = sns.lineplot(x,y, ax=axis)\n",
    "    ax.set_title(title, size='x-large')\n",
    "    \n",
    "def draw_barplot(x,y, axis, title=\"\"):\n",
    "    ax = sns.barplot(x,y, ax=axis, palette=\"Blues_d\")\n",
    "    ax.set_title(title, size='x-large')\n",
    "\n",
    "max_bikes = df_one_day[\"Total\"].iloc[0].astype(int)"
   ]
  },
  {
   "cell_type": "code",
   "execution_count": 19,
   "metadata": {},
   "outputs": [
    {
     "ename": "KeyError",
     "evalue": "'Status'",
     "output_type": "error",
     "traceback": [
      "\u001b[0;31m---------------------------------------------------------------------------\u001b[0m",
      "\u001b[0;31mKeyError\u001b[0m                                  Traceback (most recent call last)",
      "\u001b[0;32m~/.local/lib/python3.7/site-packages/pandas/core/indexes/base.py\u001b[0m in \u001b[0;36mget_loc\u001b[0;34m(self, key, method, tolerance)\u001b[0m\n\u001b[1;32m   2896\u001b[0m             \u001b[0;32mtry\u001b[0m\u001b[0;34m:\u001b[0m\u001b[0;34m\u001b[0m\u001b[0;34m\u001b[0m\u001b[0m\n\u001b[0;32m-> 2897\u001b[0;31m                 \u001b[0;32mreturn\u001b[0m \u001b[0mself\u001b[0m\u001b[0;34m.\u001b[0m\u001b[0m_engine\u001b[0m\u001b[0;34m.\u001b[0m\u001b[0mget_loc\u001b[0m\u001b[0;34m(\u001b[0m\u001b[0mkey\u001b[0m\u001b[0;34m)\u001b[0m\u001b[0;34m\u001b[0m\u001b[0;34m\u001b[0m\u001b[0m\n\u001b[0m\u001b[1;32m   2898\u001b[0m             \u001b[0;32mexcept\u001b[0m \u001b[0mKeyError\u001b[0m\u001b[0;34m:\u001b[0m\u001b[0;34m\u001b[0m\u001b[0;34m\u001b[0m\u001b[0m\n",
      "\u001b[0;32mpandas/_libs/index.pyx\u001b[0m in \u001b[0;36mpandas._libs.index.IndexEngine.get_loc\u001b[0;34m()\u001b[0m\n",
      "\u001b[0;32mpandas/_libs/index.pyx\u001b[0m in \u001b[0;36mpandas._libs.index.IndexEngine.get_loc\u001b[0;34m()\u001b[0m\n",
      "\u001b[0;32mpandas/_libs/hashtable_class_helper.pxi\u001b[0m in \u001b[0;36mpandas._libs.hashtable.PyObjectHashTable.get_item\u001b[0;34m()\u001b[0m\n",
      "\u001b[0;32mpandas/_libs/hashtable_class_helper.pxi\u001b[0m in \u001b[0;36mpandas._libs.hashtable.PyObjectHashTable.get_item\u001b[0;34m()\u001b[0m\n",
      "\u001b[0;31mKeyError\u001b[0m: 'Status'",
      "\nDuring handling of the above exception, another exception occurred:\n",
      "\u001b[0;31mKeyError\u001b[0m                                  Traceback (most recent call last)",
      "\u001b[0;32m<ipython-input-19-3302e904fc9b>\u001b[0m in \u001b[0;36m<module>\u001b[0;34m\u001b[0m\n\u001b[1;32m      6\u001b[0m \u001b[0mdraw_plot\u001b[0m\u001b[0;34m(\u001b[0m\u001b[0mdf_one_day\u001b[0m\u001b[0;34m[\u001b[0m\u001b[0;34m\"Timestamp\"\u001b[0m\u001b[0;34m]\u001b[0m\u001b[0;34m,\u001b[0m \u001b[0mdf_one_day\u001b[0m\u001b[0;34m[\u001b[0m\u001b[0;34m\"Pressure\"\u001b[0m\u001b[0;34m]\u001b[0m\u001b[0;34m,\u001b[0m \u001b[0maxs\u001b[0m\u001b[0;34m[\u001b[0m\u001b[0;36m1\u001b[0m\u001b[0;34m]\u001b[0m\u001b[0;34m[\u001b[0m\u001b[0;36m0\u001b[0m\u001b[0;34m]\u001b[0m\u001b[0;34m,\u001b[0m \u001b[0mtitle\u001b[0m\u001b[0;34m=\u001b[0m\u001b[0;34m\"Evolution of pressure through time\"\u001b[0m\u001b[0;34m)\u001b[0m\u001b[0;34m\u001b[0m\u001b[0;34m\u001b[0m\u001b[0m\n\u001b[1;32m      7\u001b[0m \u001b[0mdraw_plot\u001b[0m\u001b[0;34m(\u001b[0m\u001b[0mdf_one_day\u001b[0m\u001b[0;34m[\u001b[0m\u001b[0;34m\"TemperatureTemp\"\u001b[0m\u001b[0;34m]\u001b[0m\u001b[0;34m,\u001b[0m\u001b[0mdf_one_day\u001b[0m\u001b[0;34m[\u001b[0m\u001b[0;34m\"Bikes\"\u001b[0m\u001b[0;34m]\u001b[0m\u001b[0;34m,\u001b[0m \u001b[0maxs\u001b[0m\u001b[0;34m[\u001b[0m\u001b[0;36m1\u001b[0m\u001b[0;34m]\u001b[0m\u001b[0;34m[\u001b[0m\u001b[0;36m1\u001b[0m\u001b[0;34m]\u001b[0m\u001b[0;34m,\u001b[0m \u001b[0mtitle\u001b[0m\u001b[0;34m=\u001b[0m\u001b[0;34m\"Number of bikes available according to temperature\"\u001b[0m\u001b[0;34m)\u001b[0m\u001b[0;34m\u001b[0m\u001b[0;34m\u001b[0m\u001b[0m\n\u001b[0;32m----> 8\u001b[0;31m \u001b[0mdraw_barplot\u001b[0m\u001b[0;34m(\u001b[0m\u001b[0mdf_s\u001b[0m\u001b[0;34m[\u001b[0m\u001b[0;34m\"Status\"\u001b[0m\u001b[0;34m]\u001b[0m\u001b[0;34m,\u001b[0m \u001b[0mdf_s\u001b[0m\u001b[0;34m[\u001b[0m\u001b[0;34m\"Bikes\"\u001b[0m\u001b[0;34m]\u001b[0m\u001b[0;34m,\u001b[0m \u001b[0maxs\u001b[0m\u001b[0;34m[\u001b[0m\u001b[0;36m1\u001b[0m\u001b[0;34m]\u001b[0m\u001b[0;34m[\u001b[0m\u001b[0;36m2\u001b[0m\u001b[0;34m]\u001b[0m\u001b[0;34m,\u001b[0m \u001b[0mtitle\u001b[0m\u001b[0;34m=\u001b[0m\u001b[0;34m\"Number of bikes available according to meteorological conditions\"\u001b[0m\u001b[0;34m)\u001b[0m\u001b[0;34m\u001b[0m\u001b[0;34m\u001b[0m\u001b[0m\n\u001b[0m",
      "\u001b[0;32m~/.local/lib/python3.7/site-packages/pandas/core/frame.py\u001b[0m in \u001b[0;36m__getitem__\u001b[0;34m(self, key)\u001b[0m\n\u001b[1;32m   2993\u001b[0m             \u001b[0;32mif\u001b[0m \u001b[0mself\u001b[0m\u001b[0;34m.\u001b[0m\u001b[0mcolumns\u001b[0m\u001b[0;34m.\u001b[0m\u001b[0mnlevels\u001b[0m \u001b[0;34m>\u001b[0m \u001b[0;36m1\u001b[0m\u001b[0;34m:\u001b[0m\u001b[0;34m\u001b[0m\u001b[0;34m\u001b[0m\u001b[0m\n\u001b[1;32m   2994\u001b[0m                 \u001b[0;32mreturn\u001b[0m \u001b[0mself\u001b[0m\u001b[0;34m.\u001b[0m\u001b[0m_getitem_multilevel\u001b[0m\u001b[0;34m(\u001b[0m\u001b[0mkey\u001b[0m\u001b[0;34m)\u001b[0m\u001b[0;34m\u001b[0m\u001b[0;34m\u001b[0m\u001b[0m\n\u001b[0;32m-> 2995\u001b[0;31m             \u001b[0mindexer\u001b[0m \u001b[0;34m=\u001b[0m \u001b[0mself\u001b[0m\u001b[0;34m.\u001b[0m\u001b[0mcolumns\u001b[0m\u001b[0;34m.\u001b[0m\u001b[0mget_loc\u001b[0m\u001b[0;34m(\u001b[0m\u001b[0mkey\u001b[0m\u001b[0;34m)\u001b[0m\u001b[0;34m\u001b[0m\u001b[0;34m\u001b[0m\u001b[0m\n\u001b[0m\u001b[1;32m   2996\u001b[0m             \u001b[0;32mif\u001b[0m \u001b[0mis_integer\u001b[0m\u001b[0;34m(\u001b[0m\u001b[0mindexer\u001b[0m\u001b[0;34m)\u001b[0m\u001b[0;34m:\u001b[0m\u001b[0;34m\u001b[0m\u001b[0;34m\u001b[0m\u001b[0m\n\u001b[1;32m   2997\u001b[0m                 \u001b[0mindexer\u001b[0m \u001b[0;34m=\u001b[0m \u001b[0;34m[\u001b[0m\u001b[0mindexer\u001b[0m\u001b[0;34m]\u001b[0m\u001b[0;34m\u001b[0m\u001b[0;34m\u001b[0m\u001b[0m\n",
      "\u001b[0;32m~/.local/lib/python3.7/site-packages/pandas/core/indexes/base.py\u001b[0m in \u001b[0;36mget_loc\u001b[0;34m(self, key, method, tolerance)\u001b[0m\n\u001b[1;32m   2897\u001b[0m                 \u001b[0;32mreturn\u001b[0m \u001b[0mself\u001b[0m\u001b[0;34m.\u001b[0m\u001b[0m_engine\u001b[0m\u001b[0;34m.\u001b[0m\u001b[0mget_loc\u001b[0m\u001b[0;34m(\u001b[0m\u001b[0mkey\u001b[0m\u001b[0;34m)\u001b[0m\u001b[0;34m\u001b[0m\u001b[0;34m\u001b[0m\u001b[0m\n\u001b[1;32m   2898\u001b[0m             \u001b[0;32mexcept\u001b[0m \u001b[0mKeyError\u001b[0m\u001b[0;34m:\u001b[0m\u001b[0;34m\u001b[0m\u001b[0;34m\u001b[0m\u001b[0m\n\u001b[0;32m-> 2899\u001b[0;31m                 \u001b[0;32mreturn\u001b[0m \u001b[0mself\u001b[0m\u001b[0;34m.\u001b[0m\u001b[0m_engine\u001b[0m\u001b[0;34m.\u001b[0m\u001b[0mget_loc\u001b[0m\u001b[0;34m(\u001b[0m\u001b[0mself\u001b[0m\u001b[0;34m.\u001b[0m\u001b[0m_maybe_cast_indexer\u001b[0m\u001b[0;34m(\u001b[0m\u001b[0mkey\u001b[0m\u001b[0;34m)\u001b[0m\u001b[0;34m)\u001b[0m\u001b[0;34m\u001b[0m\u001b[0;34m\u001b[0m\u001b[0m\n\u001b[0m\u001b[1;32m   2900\u001b[0m         \u001b[0mindexer\u001b[0m \u001b[0;34m=\u001b[0m \u001b[0mself\u001b[0m\u001b[0;34m.\u001b[0m\u001b[0mget_indexer\u001b[0m\u001b[0;34m(\u001b[0m\u001b[0;34m[\u001b[0m\u001b[0mkey\u001b[0m\u001b[0;34m]\u001b[0m\u001b[0;34m,\u001b[0m \u001b[0mmethod\u001b[0m\u001b[0;34m=\u001b[0m\u001b[0mmethod\u001b[0m\u001b[0;34m,\u001b[0m \u001b[0mtolerance\u001b[0m\u001b[0;34m=\u001b[0m\u001b[0mtolerance\u001b[0m\u001b[0;34m)\u001b[0m\u001b[0;34m\u001b[0m\u001b[0;34m\u001b[0m\u001b[0m\n\u001b[1;32m   2901\u001b[0m         \u001b[0;32mif\u001b[0m \u001b[0mindexer\u001b[0m\u001b[0;34m.\u001b[0m\u001b[0mndim\u001b[0m \u001b[0;34m>\u001b[0m \u001b[0;36m1\u001b[0m \u001b[0;32mor\u001b[0m \u001b[0mindexer\u001b[0m\u001b[0;34m.\u001b[0m\u001b[0msize\u001b[0m \u001b[0;34m>\u001b[0m \u001b[0;36m1\u001b[0m\u001b[0;34m:\u001b[0m\u001b[0;34m\u001b[0m\u001b[0;34m\u001b[0m\u001b[0m\n",
      "\u001b[0;32mpandas/_libs/index.pyx\u001b[0m in \u001b[0;36mpandas._libs.index.IndexEngine.get_loc\u001b[0;34m()\u001b[0m\n",
      "\u001b[0;32mpandas/_libs/index.pyx\u001b[0m in \u001b[0;36mpandas._libs.index.IndexEngine.get_loc\u001b[0;34m()\u001b[0m\n",
      "\u001b[0;32mpandas/_libs/hashtable_class_helper.pxi\u001b[0m in \u001b[0;36mpandas._libs.hashtable.PyObjectHashTable.get_item\u001b[0;34m()\u001b[0m\n",
      "\u001b[0;32mpandas/_libs/hashtable_class_helper.pxi\u001b[0m in \u001b[0;36mpandas._libs.hashtable.PyObjectHashTable.get_item\u001b[0;34m()\u001b[0m\n",
      "\u001b[0;31mKeyError\u001b[0m: 'Status'"
     ]
    }
   ],
   "source": [
    "fig, axs = plt.subplots(nrows=2,ncols=3, figsize=(30, 15))\n",
    "fig.suptitle(\"Bicycles in Parma: Statistical dashboard\", size='xx-large', weight='bold')\n",
    "draw_barplot(df_one_day[\"Hour\"], df_one_day[\"Bikes\"], axs[0][0], title=f\"Number of available bikes depending on the hour (/{max_bikes})\")\n",
    "draw_plot(df_one_day[\"WindSpeed\"], df_one_day[\"Bikes\"], axs[0][1], title=\"Number of available bikes depending on the wind speed\")\n",
    "draw_plot(df_one_day[\"Humidity\"], df_one_day[\"Pressure\"], axs[0][2], title=\"Evolution of pressure in relation to humidity\")\n",
    "draw_plot(df_one_day[\"Timestamp\"], df_one_day[\"Pressure\"], axs[1][0], title=\"Evolution of pressure through time\")\n",
    "draw_plot(df_one_day[\"TemperatureTemp\"],df_one_day[\"Bikes\"], axs[1][1], title=\"Number of bikes available according to temperature\")\n",
    "draw_barplot(df_s[\"Status\"], df_s[\"Bikes\"], axs[1][2], title=\"Number of bikes available according to meteorological conditions\")"
   ]
  },
  {
   "cell_type": "code",
   "execution_count": null,
   "metadata": {},
   "outputs": [],
   "source": []
  }
 ]
}